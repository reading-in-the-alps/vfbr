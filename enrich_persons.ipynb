{
 "cells": [
  {
   "cell_type": "code",
   "execution_count": null,
   "metadata": {},
   "outputs": [],
   "source": [
    "# run on a fresh import\n",
    "# no_forname = Person.objects.all()\n",
    "# for x in no_forname:\n",
    "#     fname = x.written_name.split(' ')\n",
    "#     if len(fname) > 1:\n",
    "#         x.forename = fname[0]\n",
    "#         if x.name:\n",
    "#             x.name = \" \".join(fname[1:][:299])\n",
    "#         else:\n",
    "#             if len(fname) < 300:\n",
    "#                 x.name = \" \".join(fname[1:])\n",
    "#         try:\n",
    "#             x.save()\n",
    "#         except:\n",
    "#             pass"
   ]
  },
  {
   "cell_type": "code",
   "execution_count": null,
   "metadata": {},
   "outputs": [],
   "source": []
  },
  {
   "cell_type": "code",
   "execution_count": null,
   "metadata": {},
   "outputs": [],
   "source": []
  }
 ],
 "metadata": {
  "kernelspec": {
   "display_name": "Django Shell-Plus",
   "language": "python",
   "name": "django_extensions"
  },
  "language_info": {
   "codemirror_mode": {
    "name": "ipython",
    "version": 3
   },
   "file_extension": ".py",
   "mimetype": "text/x-python",
   "name": "python",
   "nbconvert_exporter": "python",
   "pygments_lexer": "ipython3",
   "version": "3.7.0"
  }
 },
 "nbformat": 4,
 "nbformat_minor": 2
}
