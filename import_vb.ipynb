{
 "cells": [
  {
   "cell_type": "code",
   "execution_count": 1,
   "metadata": {},
   "outputs": [],
   "source": [
    "import glob\n",
    "import itertools\n",
    "import pandas as pd"
   ]
  },
  {
   "cell_type": "code",
   "execution_count": 2,
   "metadata": {},
   "outputs": [
    {
     "data": {
      "text/plain": [
       "['../rita_data_ibk/orig_files\\\\lg_michaelsburg.xlsx',\n",
       " '../rita_data_ibk/orig_files\\\\sg_bruneck.xlsx']"
      ]
     },
     "execution_count": 2,
     "metadata": {},
     "output_type": "execute_result"
    }
   ],
   "source": [
    "orig_files = glob.glob('../rita_data_ibk/orig_files/*.xlsx')[1:]"
   ]
  },
  {
   "cell_type": "code",
   "execution_count": 3,
   "metadata": {},
   "outputs": [],
   "source": [
    "dfs = []\n",
    "for file in orig_files:\n",
    "    keys = list(pd.read_excel(file, None).keys())\n",
    "    for x in keys:\n",
    "        df = pd.read_excel(file, x)\n",
    "        dfs.append(df)"
   ]
  },
  {
   "cell_type": "code",
   "execution_count": 4,
   "metadata": {},
   "outputs": [],
   "source": [
    "inst, _ = Institution.objects.get_or_create(written_name=\"Südtiroler Landesarchiv\")"
   ]
  },
  {
   "cell_type": "code",
   "execution_count": 5,
   "metadata": {},
   "outputs": [],
   "source": [
    "def create_entry(row, repo_name='Südtiroler Landesarchiv'):\n",
    "    signatur = row['Signatur']\n",
    "    vb = signatur.split(',')[0]\n",
    "    year = vb[-4:]\n",
    "    vb_sig = \"{}, {}\".format(repo_name, vb)\n",
    "    vb_obj, _ = VerfachBuch.objects.get_or_create(signatur=vb_sig)\n",
    "    inv, _ = InventoryEntry.objects.get_or_create(inv_signatur=\"{}, {}\".format(repo_name, signatur))\n",
    "    inv.is_located_in = vb_obj\n",
    "    inv.save()\n",
    "    return inv\n",
    "    "
   ]
  },
  {
   "cell_type": "code",
   "execution_count": 47,
   "metadata": {},
   "outputs": [],
   "source": [
    "def relate_person(row, rel_type, persons, entry):\n",
    "    for y in persons:\n",
    "        if y.startswith(')'):\n",
    "            pers = None\n",
    "        elif y.startswith('[Vorstehe'):\n",
    "            pers = None\n",
    "        elif y.startswith('Im Rahm'):\n",
    "            pers = None\n",
    "        elif y.startswith('[die Personen'):\n",
    "            pers = None\n",
    "        elif y.startswith('n.a'):\n",
    "            pers = None\n",
    "        else:\n",
    "            try:\n",
    "                pers, _ = Person.objects.get_or_create(written_name=y)\n",
    "            except Exception as e:\n",
    "                pers = None\n",
    "        if pers:\n",
    "            getattr(entry, rel_type, None).add(pers)\n",
    "    return entry\n",
    "            \n",
    "       "
   ]
  },
  {
   "cell_type": "code",
   "execution_count": 52,
   "metadata": {},
   "outputs": [],
   "source": [
    "for x in dfs:\n",
    "    for i, row in x.iterrows():\n",
    "        entry = create_entry(row)\n",
    "#         persons = str(row['Beteiligte Personen (Beamte, Gerichtsverpflichtete, Zeugen, ...)']).split('\\n')\n",
    "#         relate_person(row, 'adm_person', persons, entry)\n",
    "        persons = str(row['Genannte Personen']).split('\\n')\n",
    "        relate_person(row, 'other_person', persons, entry)"
   ]
  },
  {
   "cell_type": "code",
   "execution_count": null,
   "metadata": {},
   "outputs": [],
   "source": []
  }
 ],
 "metadata": {
  "kernelspec": {
   "display_name": "Django Shell-Plus",
   "language": "python",
   "name": "django_extensions"
  },
  "language_info": {
   "codemirror_mode": {
    "name": "ipython",
    "version": 3
   },
   "file_extension": ".py",
   "mimetype": "text/x-python",
   "name": "python",
   "nbconvert_exporter": "python",
   "pygments_lexer": "ipython3",
   "version": "3.7.0"
  }
 },
 "nbformat": 4,
 "nbformat_minor": 2
}
