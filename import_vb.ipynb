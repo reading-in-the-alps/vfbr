{
 "cells": [
  {
   "cell_type": "code",
   "execution_count": null,
   "metadata": {},
   "outputs": [],
   "source": [
    "import glob\n",
    "import itertools\n",
    "import pandas as pd"
   ]
  },
  {
   "cell_type": "code",
   "execution_count": null,
   "metadata": {},
   "outputs": [],
   "source": [
    "MAPPING = (\n",
    "    ('Barschaft (teilweise eigene Berechnung)', 'barschaft'),\n",
    "    ('Gulden Inventarsumme', 'invenatar_summe_norm_fl'),\n",
    "    ('Kreuzer Inventarsumme', 'invenatar_summe_norm_kr'),\n",
    "    ('Gulden vor Abzug Passiva', 'vor_passiva_fl'),\n",
    "    ('Kreuzer vor Abzug Passiva', 'vor_passiva_kr'),\n",
    "    ('Gulden nach Abzug Passiva', 'nach_passiva_fl'),\n",
    "    ('Kreuzer nach Abzug Passiva', 'nach_passiva_kr'),\n",
    "    ('Buch/Bücher', 'buecher'),    \n",
    ")"
   ]
  },
  {
   "cell_type": "code",
   "execution_count": null,
   "metadata": {},
   "outputs": [],
   "source": [
    "orig_files = glob.glob('../rita_data_ibk/source/*.xlsx')"
   ]
  },
  {
   "cell_type": "code",
   "execution_count": null,
   "metadata": {},
   "outputs": [],
   "source": [
    "dfs = []\n",
    "for file in orig_files:\n",
    "    keys = list(pd.read_excel(file, None).keys())\n",
    "    for x in keys:\n",
    "        df = pd.read_excel(file, x)\n",
    "        dfs.append(df)"
   ]
  },
  {
   "cell_type": "code",
   "execution_count": null,
   "metadata": {},
   "outputs": [],
   "source": [
    "inst, _ = Institution.objects.get_or_create(written_name=\"Südtiroler Landesarchiv\")"
   ]
  },
  {
   "cell_type": "code",
   "execution_count": null,
   "metadata": {},
   "outputs": [],
   "source": [
    "doktype_col, _ = SkosCollection.objects.get_or_create(name='adm-action-type')"
   ]
  },
  {
   "cell_type": "code",
   "execution_count": null,
   "metadata": {},
   "outputs": [],
   "source": [
    "def create_entry(row, repo_name='Südtiroler Landesarchiv'):\n",
    "    signatur = row['Signatur']\n",
    "    vb = signatur.split(',')[0]\n",
    "    year = vb[-4:]\n",
    "    vb_sig = \"{}, {}\".format(repo_name, vb)\n",
    "    vb_obj, _ = VerfachBuch.objects.get_or_create(signatur=vb_sig)\n",
    "    inv, _ = InventoryEntry.objects.get_or_create(inv_signatur=\"{}, {}\".format(repo_name, signatur))\n",
    "    inv.is_located_in = vb_obj\n",
    "    inv.save()\n",
    "    return inv\n",
    "    "
   ]
  },
  {
   "cell_type": "code",
   "execution_count": null,
   "metadata": {},
   "outputs": [],
   "source": [
    "def relate_person(row, rel_type, persons, entry):\n",
    "    for y in persons:\n",
    "        if y.startswith(')'):\n",
    "            pers = None\n",
    "        elif y.startswith('[Vorstehe'):\n",
    "            pers = None\n",
    "        elif y.startswith('Im Rahm'):\n",
    "            pers = None\n",
    "        elif y.startswith('[die Personen'):\n",
    "            pers = None\n",
    "        elif y.startswith('n.a'):\n",
    "            pers = None\n",
    "        else:\n",
    "            try:\n",
    "                pers, _ = Person.objects.get_or_create(written_name=y)\n",
    "            except Exception as e:\n",
    "                pers = None\n",
    "        if pers:\n",
    "            getattr(entry, rel_type, None).add(pers)\n",
    "    return entry\n",
    "            \n",
    "       "
   ]
  },
  {
   "cell_type": "code",
   "execution_count": null,
   "metadata": {},
   "outputs": [],
   "source": [
    "def add_more_data(row, entry, mapping):\n",
    "    for item in mapping:\n",
    "        setattr(entry, item[1], row[item[0]])\n",
    "        try:\n",
    "            entry.save()\n",
    "        except Exception as e:\n",
    "            setattr(entry, item[1], None)\n",
    "    return entry"
   ]
  },
  {
   "cell_type": "code",
   "execution_count": null,
   "metadata": {},
   "outputs": [],
   "source": [
    "for x in dfs:\n",
    "    for i, row in x.iterrows():\n",
    "        entry = create_entry(row)\n",
    "        job_all = row['Beruf']\n",
    "        if \"n. a.\" in job_all:\n",
    "            job = None\n",
    "        elif \":\" in job_all:\n",
    "            job = job_all.split(': ')[-1]\n",
    "        else:\n",
    "            job = job_all\n",
    "        name_main = row['Name\\n(Erklärung aus Verfachbuch)'].split('\\n')[0].split('; ')\n",
    "        main_place = row['Wohnort; Ort des betreffenden Gutes/der betreffenden Behausung'].split('\\n')[0]\n",
    "        for name in name_main:\n",
    "            if job:\n",
    "                full_name = \"{}, {}, {}\".format(name, job, main_place)\n",
    "            else:\n",
    "                full_name = \"{}, {}\".format(name, main_place)\n",
    "            try:\n",
    "                main_pers, _ = Person.objects.get_or_create(written_name=full_name)\n",
    "            except Exception as e:\n",
    "                main_pers = None\n",
    "            if main_pers:\n",
    "                entry.main_person.add(main_pers)\n",
    "        doc_type_str = row['Dokumententypus'].split('\\n')[0].split(';')[0]\n",
    "        doc_type, _ = SkosConcept.objects.get_or_create(pref_label=doc_type_str)\n",
    "        doc_type.collection.add(doktype_col)\n",
    "        entry.inv_type = doc_type\n",
    "        if \"[KEIN umfassendes Inventa\" in row['Dokumententypus']:\n",
    "            entry.vollstaendig = 'unvollständig'\n",
    "        if row['Buch/Bücher'].startswith('j'):\n",
    "            entry.buecher_sys = 'Bücher'\n",
    "        entry.excel_row = row.to_json(force_ascii=False)\n",
    "        persons = str(row['Beteiligte Personen (Beamte, Gerichtsverpflichtete, Zeugen, ...)']).split('\\n')\n",
    "        relate_person(row, 'adm_person', persons, entry)\n",
    "        persons = str(row['Beteiligte Personen (Erbsinteressenten, Gerhaben, Anweiser, Verkäufer, Verpächter, Käufer, Pächter, ...)']).split('\\n')\n",
    "        relate_person(row, 'related_person', persons, entry)\n",
    "        persons = str(row['Genannte Personen']).split('\\n')\n",
    "        relate_person(row, 'other_person', persons, entry)\n",
    "        entry = add_more_data(row, entry, MAPPING)\n",
    "        entry.save()"
   ]
  },
  {
   "cell_type": "code",
   "execution_count": null,
   "metadata": {},
   "outputs": [],
   "source": [
    "# store number of related persons\n",
    "# [x.save_stats() for x in InventoryEntry.objects.all()]"
   ]
  },
  {
   "cell_type": "code",
   "execution_count": null,
   "metadata": {},
   "outputs": [],
   "source": [
    "# merge duplicated Verfachbücher\n",
    "# from django_super_deduper.merge import MergedModelInstance"
   ]
  },
  {
   "cell_type": "code",
   "execution_count": null,
   "metadata": {},
   "outputs": [],
   "source": [
    "# for x in VerfachBuch.objects.all():\n",
    "#     if \"Michae\" in x.signatur:\n",
    "#         loc_filter = \"Michae\"\n",
    "#     elif \"Oberamtsgerich\" in x.signatur:\n",
    "#         loc_filter = \"Oberamtsgerich\"\n",
    "#     else:\n",
    "#         loc_filter = \"Stadtgericht\"\n",
    "#     year = str(x.year)[:4]\n",
    "#     vfb =VerfachBuch.objects.exclude(id=x.id).filter(\n",
    "#         signatur__icontains=year\n",
    "#     ).filter(signatur__icontains='Süd').filter(\n",
    "#         signatur__icontains=loc_filter\n",
    "#     )\n",
    "#     if vfb.count() == 1:\n",
    "#         merged_object = MergedModelInstance(x, vfb[0]).merge(vfb[0])\n",
    "#         vfb[0].delete()\n",
    "#         print(f\"merged {x}\")"
   ]
  },
  {
   "cell_type": "code",
   "execution_count": null,
   "metadata": {},
   "outputs": [],
   "source": [
    "# Link inventory entries to verfachbuchentries\n",
    "# hits = 0\n",
    "# zeros = 0\n",
    "# more = 0\n",
    "# more_obj = []\n",
    "# offset = -5\n",
    "# for x in InventoryEntry.objects.all():\n",
    "#     vfb = x.is_located_in\n",
    "#     sig = x.inv_signatur\n",
    "#     entrys = VfbEntry.objects.filter(located_in=vfb)\n",
    "#     matching_str = sig[offset:]\n",
    "#     matches = VfbEntry.objects.filter(located_in=vfb).filter(entry_signatur__endswith=matching_str)\n",
    "#     if matches.count() == 0:\n",
    "#         zeros += 1\n",
    "#     elif matches.count() == 1:\n",
    "# #         my_obj = matches[0]\n",
    "# #         my_obj.inventory_entry = x\n",
    "# #         my_obj.save()\n",
    "#         hits += 1\n",
    "#     else:\n",
    "#         more_obj.append((x, matches))\n",
    "#         more += 1\n",
    "#     if matches.count() > 0:\n",
    "#         x.vfb_entry.set(matches)\n",
    "# print(offset, hits, zeros, more)\n"
   ]
  },
  {
   "cell_type": "code",
   "execution_count": null,
   "metadata": {},
   "outputs": [],
   "source": [
    "# InventoryEntry.objects.all().delete()"
   ]
  },
  {
   "cell_type": "code",
   "execution_count": null,
   "metadata": {},
   "outputs": [],
   "source": [
    "# Person.objects.all().delete()"
   ]
  },
  {
   "cell_type": "code",
   "execution_count": null,
   "metadata": {},
   "outputs": [],
   "source": [
    "# VerfachBuch.objects.all().delete()"
   ]
  },
  {
   "cell_type": "code",
   "execution_count": null,
   "metadata": {},
   "outputs": [],
   "source": []
  }
 ],
 "metadata": {
  "kernelspec": {
   "display_name": "Django Shell-Plus",
   "language": "python",
   "name": "django_extensions"
  },
  "language_info": {
   "codemirror_mode": {
    "name": "ipython",
    "version": 3
   },
   "file_extension": ".py",
   "mimetype": "text/x-python",
   "name": "python",
   "nbconvert_exporter": "python",
   "pygments_lexer": "ipython3",
   "version": "3.7.5rc1"
  }
 },
 "nbformat": 4,
 "nbformat_minor": 2
}
