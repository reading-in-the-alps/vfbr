{
 "cells": [
  {
   "cell_type": "code",
   "execution_count": null,
   "metadata": {},
   "outputs": [],
   "source": [
    "import glob\n",
    "import itertools\n",
    "import pandas as pd"
   ]
  },
  {
   "cell_type": "code",
   "execution_count": null,
   "metadata": {},
   "outputs": [],
   "source": [
    "orig_files = glob.glob('../rita_data_ibk/orig_files/*.xlsx')[1:]\n",
    "orig_files"
   ]
  },
  {
   "cell_type": "code",
   "execution_count": null,
   "metadata": {},
   "outputs": [],
   "source": [
    "dfs = []\n",
    "for file in orig_files:\n",
    "    keys = list(pd.read_excel(file, None).keys())\n",
    "    for x in keys:\n",
    "        df = pd.read_excel(file, x)\n",
    "        dfs.append(df)"
   ]
  },
  {
   "cell_type": "code",
   "execution_count": null,
   "metadata": {},
   "outputs": [],
   "source": [
    "inst, _ = Institution.objects.get_or_create(written_name=\"Südtiroler Landesarchiv\")"
   ]
  },
  {
   "cell_type": "code",
   "execution_count": null,
   "metadata": {},
   "outputs": [],
   "source": [
    "def create_entry(row, repo_name='Südtiroler Landesarchiv'):\n",
    "    signatur = row['Signatur']\n",
    "    vb = signatur.split(',')[0]\n",
    "    year = vb[-4:]\n",
    "    vb_sig = \"{}, {}\".format(repo_name, vb)\n",
    "    vb_obj, _ = VerfachBuch.objects.get_or_create(signatur=vb_sig)\n",
    "    vb_entry, _ = VfbEntry.objects.get_or_create(entry_signatur=\"{}, {}\".format(repo_name, signatur))\n",
    "    vb_entry.located_in = vb_obj\n",
    "    vb_entry.save()\n",
    "    return vb_entry\n",
    "    "
   ]
  },
  {
   "cell_type": "code",
   "execution_count": null,
   "metadata": {},
   "outputs": [],
   "source": [
    "for x in dfs:\n",
    "    for i, row in x.iterrows():\n",
    "        entry = create_entry(row)\n",
    "        persons = row['Beteiligte Personen (Beamte, Gerichtsverpflichtete, Zeugen, ...)'].split('\\n')\n",
    "        print(len(persons))\n",
    "        for y in persons:\n",
    "            try:\n",
    "                pers, _ = Person.objects.get_or_create(written_name=y.strip())\n",
    "            except Exception as e:\n",
    "                pers = None\n",
    "            if pers:\n",
    "                entry.mentioned_person.add(pers)"
   ]
  },
  {
   "cell_type": "code",
   "execution_count": null,
   "metadata": {},
   "outputs": [],
   "source": [
    "Person.objects.all().delete()"
   ]
  },
  {
   "cell_type": "code",
   "execution_count": null,
   "metadata": {},
   "outputs": [],
   "source": [
    "VerfachBuch.objects.all().delete()"
   ]
  },
  {
   "cell_type": "code",
   "execution_count": null,
   "metadata": {},
   "outputs": [],
   "source": [
    "dfs[33].keys()"
   ]
  },
  {
   "cell_type": "code",
   "execution_count": null,
   "metadata": {},
   "outputs": [],
   "source": []
  }
 ],
 "metadata": {
  "kernelspec": {
   "display_name": "Django Shell-Plus",
   "language": "python",
   "name": "django_extensions"
  },
  "language_info": {
   "codemirror_mode": {
    "name": "ipython",
    "version": 3
   },
   "file_extension": ".py",
   "mimetype": "text/x-python",
   "name": "python",
   "nbconvert_exporter": "python",
   "pygments_lexer": "ipython3",
   "version": "3.7.0"
  }
 },
 "nbformat": 4,
 "nbformat_minor": 2
}
