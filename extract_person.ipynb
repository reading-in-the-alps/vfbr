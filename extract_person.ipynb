{
 "cells": [
  {
   "cell_type": "code",
   "execution_count": null,
   "metadata": {},
   "outputs": [],
   "source": [
    "import spacy"
   ]
  },
  {
   "cell_type": "code",
   "execution_count": null,
   "metadata": {},
   "outputs": [],
   "source": [
    "nlp = spacy.load('vfbr_persons_model')"
   ]
  },
  {
   "cell_type": "code",
   "execution_count": null,
   "metadata": {},
   "outputs": [],
   "source": [
    "for x in VfbEntry.objects.all():\n",
    "    doc = nlp(x.vollregest)\n",
    "    try:\n",
    "        if len(doc.ents) > 0:\n",
    "            if len(doc.ents[0].text) > 5:\n",
    "                pers, _ = Person.objects.get_or_create(legacy_id=doc.ents[0].text[:299])\n",
    "            else:\n",
    "                pers = None\n",
    "        else:\n",
    "            pers = None\n",
    "    except Exception as e:\n",
    "        print(e)\n",
    "        pers = None\n",
    "    if pers is not None:\n",
    "        x.mentioned_person.add(pers)"
   ]
  },
  {
   "cell_type": "code",
   "execution_count": null,
   "metadata": {},
   "outputs": [],
   "source": [
    "for x in Person.objects.all():\n",
    "    x.written_name = x.legacy_id\n",
    "    x.written_name_leven = x.legacy_id[:254]\n",
    "    if len(x.legacy_id.split(' ')) > 1:\n",
    "        x.forename = x.legacy_id.split(' ')[0]\n",
    "        x.name = x.legacy_id.split(' ')[1]\n",
    "    x.save()\n"
   ]
  },
  {
   "cell_type": "code",
   "execution_count": null,
   "metadata": {},
   "outputs": [],
   "source": [
    "nlp = spacy.load('vfbr_places_model')"
   ]
  },
  {
   "cell_type": "code",
   "execution_count": null,
   "metadata": {},
   "outputs": [],
   "source": [
    "for x in Person.objects.all():\n",
    "    doc = nlp(x.written_name)\n",
    "    if len(doc.ents) > 0:\n",
    "        for ent in doc.ents:\n",
    "            pl, _ = Place.objects.get_or_create(name=ent.text)\n",
    "            x.belongs_to_place.add(pl)"
   ]
  },
  {
   "cell_type": "code",
   "execution_count": null,
   "metadata": {},
   "outputs": [],
   "source": [
    "for x in Place.objects.all():\n",
    "    if \"(\" in x.name and \")\" in x.name:\n",
    "        part_of_name = x.name.split('(')[1].split(')')[0].strip()\n",
    "        part_of_place, _ = Place.objects.get_or_create(name=part_of_name)\n",
    "        x.part_of = part_of_place\n",
    "        x.save()"
   ]
  },
  {
   "cell_type": "code",
   "execution_count": null,
   "metadata": {},
   "outputs": [],
   "source": [
    "nlp = spacy.load('vfbr_jobs_model')"
   ]
  },
  {
   "cell_type": "code",
   "execution_count": null,
   "metadata": {},
   "outputs": [],
   "source": [
    "scheme, _ = SkosCollection.objects.get_or_create(name=\"profession\")"
   ]
  },
  {
   "cell_type": "code",
   "execution_count": null,
   "metadata": {},
   "outputs": [],
   "source": [
    "for x in Person.objects.all():\n",
    "    doc = nlp(x.written_name)\n",
    "    if len(doc.ents) > 0:\n",
    "        for ent in doc.ents:\n",
    "            job, _ = SkosConcept.objects.get_or_create(pref_label=ent.text)\n",
    "            job.collection.add(scheme)\n",
    "            x.profession.add(job)"
   ]
  },
  {
   "cell_type": "code",
   "execution_count": null,
   "metadata": {},
   "outputs": [],
   "source": [
    "nlp = spacy.load('invs_nn')"
   ]
  },
  {
   "cell_type": "code",
   "execution_count": null,
   "metadata": {},
   "outputs": [],
   "source": [
    "for x in Person.objects.all():\n",
    "    doc = nlp(x.written_name)\n",
    "    if len(doc.ents) > 0:\n",
    "        name = \" \".join([ent.text for ent in doc.ents])\n",
    "        x.name = name\n",
    "        x.save()"
   ]
  },
  {
   "cell_type": "code",
   "execution_count": null,
   "metadata": {},
   "outputs": [],
   "source": [
    "nlp = spacy.load('invs_gender_binary')"
   ]
  },
  {
   "cell_type": "code",
   "execution_count": null,
   "metadata": {},
   "outputs": [],
   "source": [
    "for x in Person.objects.all():\n",
    "    doc = nlp(x.written_name)\n",
    "    if doc.cats['male'] >= 0.6:\n",
    "        x.gender = 'männlich'\n",
    "    elif doc.cats['male'] <= 0.4:\n",
    "        x.gender = 'weiblich'\n",
    "    else:\n",
    "        x.gender = 'anders'\n",
    "    x.save()"
   ]
  },
  {
   "cell_type": "code",
   "execution_count": null,
   "metadata": {},
   "outputs": [],
   "source": [
    "nlp = spacy.load('invs_vn')"
   ]
  },
  {
   "cell_type": "code",
   "execution_count": null,
   "metadata": {},
   "outputs": [],
   "source": [
    "for x in Person.objects.all():\n",
    "    doc = nlp(x.written_name)\n",
    "    if len(doc.ents) > 0:\n",
    "        name = \" \".join([ent.text for ent in doc.ents]).strip()\n",
    "        ws_nr = name.count(' ')\n",
    "        if name == 'Veit [':\n",
    "            x.forename = 'Veit [Vitus]'\n",
    "        if ws_nr == 0:\n",
    "            x.forename = name\n",
    "        if ws_nr == 1:\n",
    "            x.forename = name\n",
    "        if ws_nr > 1:\n",
    "            new_name = \" \".join(name.split(' ')[:2])\n",
    "            x.forename = new_name\n",
    "        x.save()"
   ]
  },
  {
   "cell_type": "code",
   "execution_count": null,
   "metadata": {},
   "outputs": [],
   "source": [
    "nlp = spacy.load('invs_fam')"
   ]
  },
  {
   "cell_type": "code",
   "execution_count": null,
   "metadata": {},
   "outputs": [],
   "source": [
    "persons = Person.objects.filter(is_related_person__isnull=False)\n",
    "persons.count()"
   ]
  },
  {
   "cell_type": "code",
   "execution_count": null,
   "metadata": {},
   "outputs": [],
   "source": [
    "fam_scheme, _ = SkosCollection.objects.get_or_create(name=\"rel_type\")"
   ]
  },
  {
   "cell_type": "code",
   "execution_count": null,
   "metadata": {},
   "outputs": [],
   "source": [
    "for x in persons:\n",
    "    doc = nlp(x.written_name)\n",
    "    ents = doc.ents\n",
    "    if len(ents) == 1:\n",
    "        fam_rel_type = None\n",
    "        perper = None\n",
    "        try:\n",
    "            inv = x.is_related_person.all()[0]\n",
    "        except IndexError:\n",
    "            inv = None\n",
    "        try:\n",
    "            main_person = inv.main_person.all()[0]\n",
    "        except IndexError:\n",
    "            main_person = None\n",
    "        if main_person is not None:\n",
    "            fam_rel_type, _ = SkosConcept.objects.get_or_create(pref_label=\"{}\".format(ents[0]))\n",
    "            fam_rel_type.collection.add(fam_scheme)\n",
    "            perper, _ = PersonPerson.objects.get_or_create(\n",
    "                source=x,\n",
    "                target=main_person,\n",
    "                rel_type=fam_rel_type\n",
    "            )\n",
    "            perper.save()\n",
    "    else:\n",
    "        pass"
   ]
  },
  {
   "cell_type": "code",
   "execution_count": null,
   "metadata": {},
   "outputs": [],
   "source": [
    "PersonPerson.objects.all()[0].source.id"
   ]
  },
  {
   "cell_type": "code",
   "execution_count": null,
   "metadata": {},
   "outputs": [],
   "source": []
  }
 ],
 "metadata": {
  "kernelspec": {
   "display_name": "Django Shell-Plus",
   "language": "python",
   "name": "django_extensions"
  },
  "language_info": {
   "codemirror_mode": {
    "name": "ipython",
    "version": 3
   },
   "file_extension": ".py",
   "mimetype": "text/x-python",
   "name": "python",
   "nbconvert_exporter": "python",
   "pygments_lexer": "ipython3",
   "version": "3.7.5rc1"
  }
 },
 "nbformat": 4,
 "nbformat_minor": 2
}
