{
 "cells": [
  {
   "cell_type": "code",
   "execution_count": null,
   "metadata": {},
   "outputs": [],
   "source": [
    "import spacy"
   ]
  },
  {
   "cell_type": "code",
   "execution_count": null,
   "metadata": {},
   "outputs": [],
   "source": [
    "nlp = spacy.load('vfbr_persons_model')"
   ]
  },
  {
   "cell_type": "code",
   "execution_count": null,
   "metadata": {},
   "outputs": [],
   "source": [
    "for x in VfbEntry.objects.all():\n",
    "    doc = nlp(x.vollregest)\n",
    "    try:\n",
    "        if len(doc.ents) > 0:\n",
    "            if len(doc.ents[0].text) > 5:\n",
    "                pers, _ = Person.objects.get_or_create(legacy_id=doc.ents[0].text[:299])\n",
    "            else:\n",
    "                pers = None\n",
    "        else:\n",
    "            pers = None\n",
    "    except Exception as e:\n",
    "        print(e)\n",
    "        pers = None\n",
    "    if pers is not None:\n",
    "        x.mentioned_person.add(pers)"
   ]
  },
  {
   "cell_type": "code",
   "execution_count": null,
   "metadata": {},
   "outputs": [],
   "source": [
    "for x in Person.objects.all():\n",
    "    x.written_name = x.legacy_id\n",
    "    x.written_name_leven = x.legacy_id[:254]\n",
    "    if len(x.legacy_id.split(' ')) > 1:\n",
    "        x.forename = x.legacy_id.split(' ')[0]\n",
    "        x.name = x.legacy_id.split(' ')[1]\n",
    "    x.save()\n"
   ]
  },
  {
   "cell_type": "code",
   "execution_count": null,
   "metadata": {},
   "outputs": [],
   "source": [
    "nlp = spacy.load('vfbr_places_model')"
   ]
  },
  {
   "cell_type": "code",
   "execution_count": null,
   "metadata": {},
   "outputs": [],
   "source": [
    "for x in Person.objects.all():\n",
    "    doc = nlp(x.written_name)\n",
    "    if len(doc.ents) > 0:\n",
    "        for ent in doc.ents:\n",
    "            pl, _ = Place.objects.get_or_create(name=ent.text)\n",
    "            x.belongs_to_place.add(pl)"
   ]
  },
  {
   "cell_type": "code",
   "execution_count": null,
   "metadata": {},
   "outputs": [],
   "source": []
  }
 ],
 "metadata": {
  "kernelspec": {
   "display_name": "Django Shell-Plus",
   "language": "python",
   "name": "django_extensions"
  },
  "language_info": {
   "codemirror_mode": {
    "name": "ipython",
    "version": 3
   },
   "file_extension": ".py",
   "mimetype": "text/x-python",
   "name": "python",
   "nbconvert_exporter": "python",
   "pygments_lexer": "ipython3",
   "version": "3.7.5rc1"
  }
 },
 "nbformat": 4,
 "nbformat_minor": 2
}
