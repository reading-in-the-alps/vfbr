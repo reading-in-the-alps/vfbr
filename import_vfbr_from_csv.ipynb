{
 "cells": [
  {
   "cell_type": "code",
   "execution_count": null,
   "metadata": {},
   "outputs": [],
   "source": [
    "import re\n",
    "import ast\n",
    "from django.db.models import Q"
   ]
  },
  {
   "cell_type": "code",
   "execution_count": null,
   "metadata": {},
   "outputs": [],
   "source": [
    "import pandas as pd"
   ]
  },
  {
   "cell_type": "code",
   "execution_count": null,
   "metadata": {},
   "outputs": [],
   "source": [
    "file = \"../rita_data_ibk/vfbr.csv\""
   ]
  },
  {
   "cell_type": "code",
   "execution_count": null,
   "metadata": {},
   "outputs": [],
   "source": [
    "df = pd.read_csv(file)"
   ]
  },
  {
   "cell_type": "code",
   "execution_count": null,
   "metadata": {},
   "outputs": [],
   "source": [
    "repo, _ = Institution.objects.get_or_create(written_name=\"Südtiroler Landesarchiv\", abbreviation=\"SLA\")"
   ]
  },
  {
   "cell_type": "code",
   "execution_count": null,
   "metadata": {},
   "outputs": [],
   "source": [
    "for i, row in df.iterrows():\n",
    "    vfb_sig = row['Verfachbuch'].replace('-TEI-P5.xm', '')[:-1]\n",
    "    vfb_sig = re.sub(r'(\\s\\[.*\\])', '', vfb_sig)\n",
    "    vfb_sig = re.sub(r'(,,)', ',', vfb_sig)\n",
    "    vfb_sig = re.sub(r'(\\(!\\))', '', vfb_sig)\n",
    "    vfb, _ = VerfachBuch.objects.get_or_create(\n",
    "        signatur=vfb_sig\n",
    "    )\n",
    "    vfb.year = f\"{row['start_year']}-01-01\"\n",
    "    vfb.year_latest = f\"{row['end_year']}-01-01\"\n",
    "    vfb.year_label = row['years']\n",
    "    vfb.repo = repo\n",
    "    vfb.save()\n",
    "    entry_sig = f\"{vfb_sig}, {row['Eintrag'].split(':')[0].strip()}\"\n",
    "    entry_sig =  (re.sub(r'(\\[.*\\])', '', entry_sig))[:60]\n",
    "    vfb_entry, _ = VfbEntry.objects.get_or_create(\n",
    "        entry_signatur=entry_sig\n",
    "    )\n",
    "    vfb_entry.located_in = vfb\n",
    "    vfb_entry.start_page = row['start']\n",
    "    vfb_entry.end_page = row['end']\n",
    "    vfb_entry.vollregest = row['clean_text']\n",
    "    vfb_entry.save()\n",
    "    for x in ast.literal_eval(row['notes']):\n",
    "        note, _ = Anmerkungen.objects.get_or_create(\n",
    "            text=x\n",
    "        )\n",
    "        note.entry = vfb_entry\n",
    "        note.save()"
   ]
  },
  {
   "cell_type": "code",
   "execution_count": null,
   "metadata": {},
   "outputs": [],
   "source": [
    "for x in VfbEntry.objects.filter(entry_signatur__startswith='VFB_LG_S'):\n",
    "    new_sig = x.entry_signatur.replace('VFB_LG_StMichaelsburgl', 'VB. Lg. St. Michaelsburg')\n",
    "    x.entry_signatur = new_sig\n",
    "    x.save()"
   ]
  },
  {
   "cell_type": "code",
   "execution_count": null,
   "metadata": {},
   "outputs": [],
   "source": [
    "for x in VerfachBuch.objects.filter(signatur__startswith='VFB_LG_S'):\n",
    "    new_sig = x.signatur.replace('VFB_LG_StMichaelsburgl', 'VB. Lg. St. Michaelsburg')\n",
    "    x.signatur = new_sig\n",
    "    x.save()"
   ]
  },
  {
   "cell_type": "code",
   "execution_count": null,
   "metadata": {},
   "outputs": [],
   "source": [
    "for x in VerfachBuch.objects.filter(signatur__startswith='VFB_STG_Bruneckl'):\n",
    "    new_sig = x.signatur.replace('VFB_STG_Bruneckl', 'VB. Stdg. Bruneck')\n",
    "    x.signatur = new_sig\n",
    "    x.save()"
   ]
  },
  {
   "cell_type": "code",
   "execution_count": null,
   "metadata": {},
   "outputs": [],
   "source": [
    "for x in VfbEntry.objects.filter(entry_signatur__startswith='VFB_STG_Bruneckl'):\n",
    "    new_sig = x.entry_signatur.replace('VFB_STG_Bruneckl', 'VB. Stdg. Bruneck')\n",
    "    x.entry_signatur = new_sig\n",
    "    x.save()"
   ]
  },
  {
   "cell_type": "code",
   "execution_count": null,
   "metadata": {},
   "outputs": [],
   "source": [
    "for x in VerfachBuch.objects.filter(signatur__startswith='VFB_OAG_Bruneckl'):\n",
    "    new_sig = x.signatur.replace('VFB_OAG_Bruneckl', 'VB. Oberamtsgerich Bruneck')\n",
    "    x.signatur = new_sig\n",
    "    x.save()"
   ]
  },
  {
   "cell_type": "code",
   "execution_count": null,
   "metadata": {},
   "outputs": [],
   "source": [
    "for x in VfbEntry.objects.filter(entry_signatur__startswith='VFB_OAG_Bruneckl'):\n",
    "    new_sig = x.entry_signatur.replace('VFB_OAG_Bruneckl', 'VB. Oberamtsgerich Bruneck')\n",
    "    x.entry_signatur = new_sig\n",
    "    x.save()"
   ]
  },
  {
   "cell_type": "code",
   "execution_count": null,
   "metadata": {},
   "outputs": [],
   "source": [
    "for x in Anmerkungen.objects.filter(Q(text__contains=\"BUCH\") | Q(text__contains=\"BÜCHER\")):\n",
    "    entry = x.entry\n",
    "    entry.book = True\n",
    "    entry.save()"
   ]
  },
  {
   "cell_type": "code",
   "execution_count": null,
   "metadata": {},
   "outputs": [],
   "source": [
    "for x in VfbEntry.objects.exclude(book=True):\n",
    "    x.book = False\n",
    "    x.save()"
   ]
  },
  {
   "cell_type": "code",
   "execution_count": null,
   "metadata": {},
   "outputs": [],
   "source": [
    "for x in VfbEntry.objects.all():\n",
    "    new = x.entry_signatur.replace('VB.', 'SLA, VB.')\n",
    "    x.entry_signatur = new\n",
    "    x.save()"
   ]
  },
  {
   "cell_type": "code",
   "execution_count": null,
   "metadata": {},
   "outputs": [],
   "source": []
  }
 ],
 "metadata": {
  "kernelspec": {
   "display_name": "Django Shell-Plus",
   "language": "python",
   "name": "django_extensions"
  },
  "language_info": {
   "codemirror_mode": {
    "name": "ipython",
    "version": 3
   },
   "file_extension": ".py",
   "mimetype": "text/x-python",
   "name": "python",
   "nbconvert_exporter": "python",
   "pygments_lexer": "ipython3",
   "version": "3.7.5rc1"
  }
 },
 "nbformat": 4,
 "nbformat_minor": 2
}
