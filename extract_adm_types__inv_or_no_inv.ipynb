{
 "cells": [
  {
   "cell_type": "code",
   "execution_count": null,
   "metadata": {},
   "outputs": [],
   "source": [
    "import spacy"
   ]
  },
  {
   "cell_type": "code",
   "execution_count": null,
   "metadata": {},
   "outputs": [],
   "source": [
    "adm_scheme, _ = SkosCollection.objects.get_or_create(name=\"adm_type\")"
   ]
  },
  {
   "cell_type": "code",
   "execution_count": null,
   "metadata": {},
   "outputs": [],
   "source": [
    "nlp = spacy.load('vfbr_adm_model')"
   ]
  },
  {
   "cell_type": "code",
   "execution_count": null,
   "metadata": {},
   "outputs": [],
   "source": [
    "for x in VfbEntry.objects.all():\n",
    "    doc = nlp(x.vollregest)\n",
    "    try:\n",
    "        if len(doc.ents) > 0:\n",
    "            adm_type = doc.ents[0].text\n",
    "        else:\n",
    "            adm_type = \"kein Type erkannt\"\n",
    "    except Exception as e:\n",
    "        adm_type = e\n",
    "    adm_skos, _ = SkosConcept.objects.get_or_create(\n",
    "        pref_label=adm_type,\n",
    "        pref_label_lang='de'\n",
    "    )\n",
    "    adm_skos.collection.set([adm_scheme])\n",
    "    x.adm_action_type = adm_skos\n",
    "    x.save()"
   ]
  },
  {
   "cell_type": "code",
   "execution_count": null,
   "metadata": {},
   "outputs": [],
   "source": [
    "for x in VfbEntry.objects.all():\n",
    "    end = x.vollregest[-50:]\n",
    "    if \"kein Inventar\" in end:\n",
    "        x.inventory = False\n",
    "    elif \"Inventar\" in end:\n",
    "        x.inventory = True\n",
    "    else:\n",
    "        x.inventory = False\n",
    "    x.save()"
   ]
  },
  {
   "cell_type": "code",
   "execution_count": null,
   "metadata": {},
   "outputs": [],
   "source": []
  }
 ],
 "metadata": {
  "kernelspec": {
   "display_name": "Django Shell-Plus",
   "language": "python",
   "name": "django_extensions"
  },
  "language_info": {
   "codemirror_mode": {
    "name": "ipython",
    "version": 3
   },
   "file_extension": ".py",
   "mimetype": "text/x-python",
   "name": "python",
   "nbconvert_exporter": "python",
   "pygments_lexer": "ipython3",
   "version": "3.7.3"
  }
 },
 "nbformat": 4,
 "nbformat_minor": 2
}
