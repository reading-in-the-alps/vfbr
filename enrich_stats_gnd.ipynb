{
 "cells": [
  {
   "cell_type": "code",
   "execution_count": null,
   "metadata": {},
   "outputs": [],
   "source": [
    "[x.save_stats() for x in InventoryEntry.objects.all()]"
   ]
  },
  {
   "cell_type": "code",
   "execution_count": null,
   "metadata": {},
   "outputs": [],
   "source": [
    "for x in Person.objects.all():\n",
    "    if x.mentioned_in_entry.all().count() > 0:\n",
    "        x.is_main_vfbr = True\n",
    "    else:\n",
    "        x.is_main_vfbr = False\n",
    "\n",
    "    if x.is_main_person.all().count() > 0:\n",
    "        x.is_main = True\n",
    "    else:\n",
    "        x.is_main = False\n",
    "\n",
    "    if x.is_adm_person.all().count() > 0:\n",
    "        x.is_adm = True\n",
    "    else:\n",
    "        x.is_adm = False\n",
    "\n",
    "    if x.is_related_person.all().count() > 0:\n",
    "        x.is_related = True\n",
    "    else:\n",
    "        x.is_related = False\n",
    "\n",
    "    if x.is_other_person.all().count() > 0:\n",
    "        x.is_other = True\n",
    "    else:\n",
    "        x.is_other = False\n",
    "    x.save()"
   ]
  },
  {
   "cell_type": "code",
   "execution_count": null,
   "metadata": {},
   "outputs": [],
   "source": [
    "for x in Creator.objects.filter(gnd_data__isnull=False):\n",
    "    death = x.gnd_data.get('dateOfDeath', None)\n",
    "    if death:\n",
    "        death = \"{}-01-01\".format(death[0][:4])\n",
    "        x.gnd_date_of_death = death\n",
    "        try:\n",
    "            x.save()\n",
    "        except Exception as e:\n",
    "            print(\"Error:{}, entity: {}\".format(e, x.id))"
   ]
  },
  {
   "cell_type": "code",
   "execution_count": null,
   "metadata": {},
   "outputs": [],
   "source": [
    "for x in Creator.objects.filter(gnd_data__isnull=False):\n",
    "    places = x.gnd_data.get('geographicAreaCode', [])\n",
    "    places = [x['label'] for x in places]\n",
    "    place_obj = [Place.objects.get_or_create(name=x)[0] for x in places]\n",
    "    x.gnd_geographic_area.set(place_obj)"
   ]
  },
  {
   "cell_type": "code",
   "execution_count": null,
   "metadata": {},
   "outputs": [],
   "source": []
  }
 ],
 "metadata": {
  "kernelspec": {
   "display_name": "Django Shell-Plus",
   "language": "python",
   "name": "django_extensions"
  },
  "language_info": {
   "codemirror_mode": {
    "name": "ipython",
    "version": 3
   },
   "file_extension": ".py",
   "mimetype": "text/x-python",
   "name": "python",
   "nbconvert_exporter": "python",
   "pygments_lexer": "ipython3",
   "version": "3.7.5rc1"
  }
 },
 "nbformat": 4,
 "nbformat_minor": 2
}
