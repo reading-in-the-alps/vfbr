{
 "cells": [
  {
   "cell_type": "code",
   "execution_count": 4,
   "metadata": {},
   "outputs": [],
   "source": [
    "import spacy\n",
    "from spacytei.tokenlist import doc_to_tokenlist_no_sents\n",
    "from spacytei.ner import fetch_ner_samples"
   ]
  },
  {
   "cell_type": "code",
   "execution_count": 5,
   "metadata": {},
   "outputs": [],
   "source": [
    "nlp = spacy.load(r\"C:\\Users\\pandorfer\\Documents\\Redmine\\rita_project\\vfbr\\data\\extract_persons\")"
   ]
  },
  {
   "cell_type": "code",
   "execution_count": 8,
   "metadata": {},
   "outputs": [],
   "source": [
    "vfbentries = VfbEntry.objects.all()"
   ]
  },
  {
   "cell_type": "code",
   "execution_count": 13,
   "metadata": {},
   "outputs": [],
   "source": [
    "for x in vfbentries:\n",
    "    enriched = nlp(x.vollregest)\n",
    "    resp_dict = fetch_ner_samples(nlp, enriched, dont_split=True)\n",
    "    for y in resp_dict:\n",
    "        ner, _ = NerSample.objects.get_or_create(\n",
    "                                text=y[0]\n",
    "                            )\n",
    "        ner.entity_json = y[1]\n",
    "        ner.content_object = x\n",
    "        ner.save()"
   ]
  },
  {
   "cell_type": "code",
   "execution_count": 15,
   "metadata": {},
   "outputs": [],
   "source": [
    "for x in NerSample.objects.all():\n",
    "    ners = x.return_ents()\n",
    "    if len(ners) == 0:\n",
    "        pass\n",
    "    else:\n",
    "        for ent in ners:\n",
    "            try:\n",
    "                pers = Person.objects.create(written_name=ent)\n",
    "                x.content_object.mentioned_person.add(pers)\n",
    "            except Exception as e:\n",
    "                print(\"Error for ent: {} in VfbEntry-ID: {}. Error: {}\".format(ent, x.id, e))"
   ]
  },
  {
   "cell_type": "code",
   "execution_count": 56,
   "metadata": {},
   "outputs": [],
   "source": [
    "to_delete = [\n",
    "    'Verlassenschaf',\n",
    "    'Testa',\n",
    "    'Bestandskontrakt',\n",
    "    'Bericht',\n",
    "    'Abrechnung',\n",
    "    'Anhang',\n",
    "    'Anweiserschaftsrechnun',\n",
    "    'Besitzübergabe'\n",
    "    'Gerhabschaftsrechnu',\n",
    "    'Geburtsurkunde',\n",
    "    'rechnung'\n",
    "    'überlassungsv',\n",
    "    'kontrakt',\n",
    "    'Protokoll',\n",
    "    'iquidatio',\n",
    "    'Klage („obri',\n",
    "    'Quittung',\n",
    "    'estätigung',\n",
    "    'vertrag',\n",
    "    'inventar',\n",
    "    'Erbteil',\n",
    "    'schuldbr',\n",
    "    'verinbar',\n",
    "    'vermögen',\n",
    "    'vollmach',\n",
    "    'wiedergut',\n",
    "    '. Dazu',\n",
    "    'abschrift',\n",
    "    'vereinbarung',\n",
    "    'Versorg',\n",
    "    'Schuldenüb',\n",
    "    '] Besitzerlassung bzw. Besitzab'\n",
    "    '– Da',\n",
    "]"
   ]
  },
  {
   "cell_type": "code",
   "execution_count": 57,
   "metadata": {},
   "outputs": [],
   "source": [
    "for x in to_delete:\n",
    "    Person.objects.filter(written_name__icontains=x).delete()"
   ]
  },
  {
   "cell_type": "code",
   "execution_count": 58,
   "metadata": {},
   "outputs": [],
   "source": [
    "### enrich Persons; extract VN, NN"
   ]
  },
  {
   "cell_type": "code",
   "execution_count": 18,
   "metadata": {},
   "outputs": [
    {
     "data": {
      "text/plain": [
       "(275, {'annotations.NerSample': 275})"
      ]
     },
     "execution_count": 18,
     "metadata": {},
     "output_type": "execute_result"
    }
   ],
   "source": [
    "# NerSample.objects.all().delete()"
   ]
  },
  {
   "cell_type": "code",
   "execution_count": 19,
   "metadata": {},
   "outputs": [],
   "source": [
    "nlp = spacy.load(r\"C:\\Users\\pandorfer\\Documents\\Redmine\\rita_project\\vfbr\\data\\vfbr-names-model\")"
   ]
  },
  {
   "cell_type": "code",
   "execution_count": 20,
   "metadata": {},
   "outputs": [],
   "source": [
    "for x in Person.objects.all():\n",
    "    enriched = nlp(x.written_name)\n",
    "    resp_dict = fetch_ner_samples(nlp, enriched, dont_split=True, ent_types=['VN', 'NN'])\n",
    "    for y in resp_dict:\n",
    "        ner, _ = NerSample.objects.get_or_create(\n",
    "                                text=y[0]\n",
    "                            )\n",
    "        ner.entity_json = y[1]\n",
    "        ner.content_object = x\n",
    "        ner.save()"
   ]
  },
  {
   "cell_type": "code",
   "execution_count": null,
   "metadata": {},
   "outputs": [],
   "source": []
  }
 ],
 "metadata": {
  "kernelspec": {
   "display_name": "Django Shell-Plus",
   "language": "python",
   "name": "django_extensions"
  },
  "language_info": {
   "codemirror_mode": {
    "name": "ipython",
    "version": 3
   },
   "file_extension": ".py",
   "mimetype": "text/x-python",
   "name": "python",
   "nbconvert_exporter": "python",
   "pygments_lexer": "ipython3",
   "version": "3.7.0"
  }
 },
 "nbformat": 4,
 "nbformat_minor": 2
}
