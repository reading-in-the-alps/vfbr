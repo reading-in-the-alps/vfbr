{
 "cells": [
  {
   "cell_type": "code",
   "execution_count": null,
   "metadata": {},
   "outputs": [],
   "source": [
    "import pandas as pd\n",
    "from django.core.exceptions import ObjectDoesNotExist\n",
    "from django.db.models.functions import Length"
   ]
  },
  {
   "cell_type": "code",
   "execution_count": null,
   "metadata": {},
   "outputs": [],
   "source": [
    "file = \"../rita_data_ibk/generated_files/adm_action_type_occurences.csv\"\n",
    "df = pd.read_csv(file)"
   ]
  },
  {
   "cell_type": "code",
   "execution_count": null,
   "metadata": {},
   "outputs": [],
   "source": [
    "adm_col, _ = SkosCollection.objects.get_or_create(name='adm-action-type')\n",
    "other, _ = SkosConcept.objects.get_or_create(pref_label='Sonstiges', pref_label_lang='ger')\n",
    "other.collection.add(adm_col)"
   ]
  },
  {
   "cell_type": "code",
   "execution_count": null,
   "metadata": {},
   "outputs": [],
   "source": [
    "for i, row in df.iterrows():\n",
    "    if row['name'] > 4 and row[0]:\n",
    "        con, _ = SkosConcept.objects.get_or_create(\n",
    "            pref_label=row[0],\n",
    "            pref_label_lang='ger'\n",
    "        )\n",
    "        con.collection.add(adm_col)"
   ]
  },
  {
   "cell_type": "code",
   "execution_count": null,
   "metadata": {},
   "outputs": [],
   "source": [
    "file = \"../rita_data_ibk/generated_files/out.csv\""
   ]
  },
  {
   "cell_type": "code",
   "execution_count": null,
   "metadata": {},
   "outputs": [],
   "source": [
    "df = pd.read_csv(file)"
   ]
  },
  {
   "cell_type": "code",
   "execution_count": null,
   "metadata": {},
   "outputs": [],
   "source": [
    "pl, _ = Place.objects.get_or_create(\n",
    "    name='Bolzano',\n",
    "    geonames_id=\"http://www.geonames.org/3181913/bolzano.html\",\n",
    "    lat = 46.49067,\n",
    "    lng = 11.33982\n",
    ")"
   ]
  },
  {
   "cell_type": "code",
   "execution_count": null,
   "metadata": {},
   "outputs": [],
   "source": [
    "archiv, _ = Institution.objects.get_or_create(\n",
    "    written_name=\"Südtiroler Landesarchiv\",\n",
    "    abbreviation=\"SLA\"\n",
    ")\n",
    "archiv.location = pl\n",
    "archiv.save()"
   ]
  },
  {
   "cell_type": "code",
   "execution_count": null,
   "metadata": {},
   "outputs": [],
   "source": [
    "for i, row in df.iterrows():\n",
    "    if len(row['entry_signatur']) > 250:\n",
    "        pass\n",
    "    else:\n",
    "        vb, _ = VerfachBuch.objects.get_or_create(\n",
    "            signatur=row['vb_signatur'],\n",
    "            year = \"{}-01-01\".format(row['year'])\n",
    "        )\n",
    "        vb.repo = archiv\n",
    "        vb.save()\n",
    "        entry, _ = VfbEntry.objects.get_or_create(\n",
    "            entry_signatur=row['entry_signatur']\n",
    "        )\n",
    "        entry.located_in = vb\n",
    "        entry.vollregest = row['text']\n",
    "        entry.inventory = row['inv']\n",
    "        try:\n",
    "            adm_type = SkosConcept.objects.get(pref_label=row['first_token'])\n",
    "        except ObjectDoesNotExist:\n",
    "            adm_type, _ = SkosConcept.objects.get_or_create(\n",
    "                broader_concept=other,\n",
    "                pref_label=row['first_token'],\n",
    "                pref_label_lang='ger'\n",
    "            )\n",
    "            adm_type.collection.add(adm_col)\n",
    "        entry.adm_action_type = adm_type\n",
    "        entry.save()"
   ]
  },
  {
   "cell_type": "code",
   "execution_count": null,
   "metadata": {},
   "outputs": [],
   "source": [
    "from annotations.utils import create_ner_sample_from_qs\n",
    "# spacyurl = \"https://spacyapp.acdh-dev.oeaw.ac.at/query/nerparser-api/\"\n",
    "spacyurl = \"http://127.0.0.1:7000/query/nerparser-api/\""
   ]
  },
  {
   "cell_type": "code",
   "execution_count": null,
   "metadata": {},
   "outputs": [],
   "source": [
    "for x in create_ner_sample_from_qs(\n",
    "    'summaries', 'vfbentry', 'vollregest', spacyurl\n",
    "):\n",
    "    pass"
   ]
  },
  {
   "cell_type": "code",
   "execution_count": null,
   "metadata": {},
   "outputs": [],
   "source": [
    "for x in NerSample.objects.all():\n",
    "    ners = x.return_ents()\n",
    "    if len(ners) == 0:\n",
    "        pass\n",
    "    else:\n",
    "        for ent in ners:\n",
    "            try:\n",
    "                pers = Person.objects.create(written_name=ent)\n",
    "                x.entry.mentioned_person.add(pers)\n",
    "            except Exception as e:\n",
    "                print(\"Error for ent: {} in VfbEntry-ID: {}. Error: {}\".format(ent, x.id, e))"
   ]
  },
  {
   "cell_type": "code",
   "execution_count": null,
   "metadata": {},
   "outputs": [],
   "source": [
    "Person.objects.annotate(text_len=Length('written_name')).filter(text_len__lt=9).delete()"
   ]
  },
  {
   "cell_type": "code",
   "execution_count": null,
   "metadata": {},
   "outputs": [],
   "source": [
    "for x in Person.objects.all():\n",
    "    names = x.written_name.split()\n",
    "    if len(names) > 1:\n",
    "        x.forename = names[0]\n",
    "        if names[1].startswith('['):\n",
    "            try:\n",
    "                x.name = names[2]\n",
    "            except IndexError:\n",
    "                print(names)\n",
    "        else:\n",
    "            x.name = names[1]\n",
    "        x.save()\n",
    "    else:\n",
    "        pass"
   ]
  },
  {
   "cell_type": "code",
   "execution_count": null,
   "metadata": {},
   "outputs": [],
   "source": [
    "NerSample.objects.all().delete()"
   ]
  },
  {
   "cell_type": "code",
   "execution_count": null,
   "metadata": {},
   "outputs": [],
   "source": [
    "# was a run to detect professions\n",
    "for x in create_ner_sample_from_qs(\n",
    "    'entities', 'person', 'written_name', spacyurl\n",
    "):\n",
    "    pass"
   ]
  },
  {
   "cell_type": "code",
   "execution_count": null,
   "metadata": {},
   "outputs": [],
   "source": [
    "# derive a list of professions\n",
    "jobs = []\n",
    "for x in NerSample.objects.all():\n",
    "    ners = x.return_ents()\n",
    "    if len(ners) == 0:\n",
    "        pass\n",
    "    else:\n",
    "        for ent in ners:\n",
    "            if len(ent) > 3:\n",
    "                jobs.append(ent)"
   ]
  },
  {
   "cell_type": "code",
   "execution_count": null,
   "metadata": {},
   "outputs": [],
   "source": [
    "prof_coll, _ = SkosCollection.objects.get_or_create(name='profession')"
   ]
  },
  {
   "cell_type": "code",
   "execution_count": null,
   "metadata": {},
   "outputs": [],
   "source": [
    "# add professions\n",
    "for x in Person.objects.all():\n",
    "    for y in set(jobs):\n",
    "        if y in x.written_name:\n",
    "            job, _ = SkosConcept.objects.get_or_create(\n",
    "                pref_label=y\n",
    "            )\n",
    "            job.collection.add(prof_coll)\n",
    "            x.profession.add(job)"
   ]
  },
  {
   "cell_type": "code",
   "execution_count": null,
   "metadata": {},
   "outputs": [],
   "source": []
  },
  {
   "cell_type": "code",
   "execution_count": null,
   "metadata": {},
   "outputs": [],
   "source": [
    "Ner.objects.all().delete()"
   ]
  },
  {
   "cell_type": "code",
   "execution_count": null,
   "metadata": {},
   "outputs": [],
   "source": []
  }
 ],
 "metadata": {
  "kernelspec": {
   "display_name": "Django Shell-Plus",
   "language": "python",
   "name": "django_extensions"
  },
  "language_info": {
   "codemirror_mode": {
    "name": "ipython",
    "version": 3
   },
   "file_extension": ".py",
   "mimetype": "text/x-python",
   "name": "python",
   "nbconvert_exporter": "python",
   "pygments_lexer": "ipython3",
   "version": "3.7.0"
  }
 },
 "nbformat": 4,
 "nbformat_minor": 2
}
